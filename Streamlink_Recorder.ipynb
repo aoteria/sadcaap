{
  "nbformat": 4,
  "nbformat_minor": 0,
  "metadata": {
    "colab": {
      "name": "Streamlink Recorder.ipynb",
      "provenance": []
    },
    "kernelspec": {
      "name": "python3",
      "display_name": "Python 3"
    }
  },
  "cells": [
    {
      "cell_type": "markdown",
      "metadata": {
        "id": "WJ9XTTtVzHfX"
      },
      "source": [
        "##GDrive access your drive content"
      ]
    },
    {
      "cell_type": "code",
      "metadata": {
        "id": "tPuLCnbGFmxo",
        "colab": {
          "base_uri": "https://localhost:8080/"
        },
        "outputId": "b158c864-272e-4c23-9f11-73e6d1298eba"
      },
      "source": [
        "#@markdown <br><center><img src='https://upload.wikimedia.org/wikipedia/commons/thumb/d/da/Google_Drive_logo.png/600px-Google_Drive_logo.png' height=\"50\" alt=\"Gdrive-logo\"/></center>\n",
        "#@markdown <center><h3>Mount Gdrive to /content/drive</h3></center><br>\n",
        "MODE = \"MOUNT\" #@param [\"MOUNT\", \"UNMOUNT\"]\n",
        "#Mount your Gdrive!\n",
        "from google.colab import drive\n",
        "drive.mount._DEBUG = False\n",
        "if MODE == \"MOUNT\":\n",
        "  drive.mount('/content/drive', force_remount=True)\n",
        "elif MODE == \"UNMOUNT\":\n",
        "  try:\n",
        "    drive.flush_and_unmount()\n",
        "  except ValueError:\n",
        "    pass\n",
        "  get_ipython().system_raw(\"rm -rf /root/.config/Google/DriveFS\")"
      ],
      "execution_count": 1,
      "outputs": [
        {
          "output_type": "stream",
          "name": "stdout",
          "text": [
            "Mounted at /content/drive\n"
          ]
        }
      ]
    },
    {
      "cell_type": "markdown",
      "metadata": {
        "id": "4pTdf-75d7It"
      },
      "source": [
        "##Streamlink"
      ]
    },
    {
      "cell_type": "code",
      "metadata": {
        "id": "BdxczAg_rqzD",
        "colab": {
          "base_uri": "https://localhost:8080/"
        },
        "outputId": "e28fad2f-3426-4cc1-df68-6bd64f2d01e3"
      },
      "source": [
        "#@markdown <center><h2>Streamlink Installer</h2></center><br>\n",
        "#@markdown <center>Install StreamLink</center>\n",
        "!pip install streamlink"
      ],
      "execution_count": 2,
      "outputs": [
        {
          "output_type": "stream",
          "name": "stdout",
          "text": [
            "Collecting streamlink\n",
            "  Downloading streamlink-7.1.3-py3-none-any.whl.metadata (6.4 kB)\n",
            "Requirement already satisfied: certifi in /usr/local/lib/python3.11/dist-packages (from streamlink) (2025.1.31)\n",
            "Collecting isodate (from streamlink)\n",
            "  Downloading isodate-0.7.2-py3-none-any.whl.metadata (11 kB)\n",
            "Requirement already satisfied: lxml<6,>=4.6.4 in /usr/local/lib/python3.11/dist-packages (from streamlink) (5.3.1)\n",
            "Collecting pycountry (from streamlink)\n",
            "  Downloading pycountry-24.6.1-py3-none-any.whl.metadata (12 kB)\n",
            "Collecting pycryptodome<4,>=3.4.3 (from streamlink)\n",
            "  Downloading pycryptodome-3.22.0-cp37-abi3-manylinux_2_17_x86_64.manylinux2014_x86_64.whl.metadata (3.4 kB)\n",
            "Requirement already satisfied: PySocks!=1.5.7,>=1.5.6 in /usr/local/lib/python3.11/dist-packages (from streamlink) (1.7.1)\n",
            "Requirement already satisfied: requests<3,>=2.26.0 in /usr/local/lib/python3.11/dist-packages (from streamlink) (2.32.3)\n",
            "Collecting trio<1,>=0.22.0 (from streamlink)\n",
            "  Downloading trio-0.29.0-py3-none-any.whl.metadata (8.5 kB)\n",
            "Collecting trio-websocket<1,>=0.9.0 (from streamlink)\n",
            "  Downloading trio_websocket-0.12.2-py3-none-any.whl.metadata (5.1 kB)\n",
            "Requirement already satisfied: urllib3<3,>=1.26.0 in /usr/local/lib/python3.11/dist-packages (from streamlink) (2.3.0)\n",
            "Requirement already satisfied: websocket-client<2,>=1.2.1 in /usr/local/lib/python3.11/dist-packages (from streamlink) (1.8.0)\n",
            "Requirement already satisfied: charset-normalizer<4,>=2 in /usr/local/lib/python3.11/dist-packages (from requests<3,>=2.26.0->streamlink) (3.4.1)\n",
            "Requirement already satisfied: idna<4,>=2.5 in /usr/local/lib/python3.11/dist-packages (from requests<3,>=2.26.0->streamlink) (3.10)\n",
            "Requirement already satisfied: attrs>=23.2.0 in /usr/local/lib/python3.11/dist-packages (from trio<1,>=0.22.0->streamlink) (25.3.0)\n",
            "Requirement already satisfied: sortedcontainers in /usr/local/lib/python3.11/dist-packages (from trio<1,>=0.22.0->streamlink) (2.4.0)\n",
            "Collecting outcome (from trio<1,>=0.22.0->streamlink)\n",
            "  Downloading outcome-1.3.0.post0-py2.py3-none-any.whl.metadata (2.6 kB)\n",
            "Requirement already satisfied: sniffio>=1.3.0 in /usr/local/lib/python3.11/dist-packages (from trio<1,>=0.22.0->streamlink) (1.3.1)\n",
            "Collecting wsproto>=0.14 (from trio-websocket<1,>=0.9.0->streamlink)\n",
            "  Downloading wsproto-1.2.0-py3-none-any.whl.metadata (5.6 kB)\n",
            "Requirement already satisfied: h11<1,>=0.9.0 in /usr/local/lib/python3.11/dist-packages (from wsproto>=0.14->trio-websocket<1,>=0.9.0->streamlink) (0.14.0)\n",
            "Downloading streamlink-7.1.3-py3-none-any.whl (531 kB)\n",
            "\u001b[2K   \u001b[90m━━━━━━━━━━━━━━━━━━━━━━━━━━━━━━━━━━━━━━━━\u001b[0m \u001b[32m531.4/531.4 kB\u001b[0m \u001b[31m11.2 MB/s\u001b[0m eta \u001b[36m0:00:00\u001b[0m\n",
            "\u001b[?25hDownloading pycryptodome-3.22.0-cp37-abi3-manylinux_2_17_x86_64.manylinux2014_x86_64.whl (2.3 MB)\n",
            "\u001b[2K   \u001b[90m━━━━━━━━━━━━━━━━━━━━━━━━━━━━━━━━━━━━━━━━\u001b[0m \u001b[32m2.3/2.3 MB\u001b[0m \u001b[31m51.0 MB/s\u001b[0m eta \u001b[36m0:00:00\u001b[0m\n",
            "\u001b[?25hDownloading trio-0.29.0-py3-none-any.whl (492 kB)\n",
            "\u001b[2K   \u001b[90m━━━━━━━━━━━━━━━━━━━━━━━━━━━━━━━━━━━━━━━━\u001b[0m \u001b[32m492.9/492.9 kB\u001b[0m \u001b[31m24.2 MB/s\u001b[0m eta \u001b[36m0:00:00\u001b[0m\n",
            "\u001b[?25hDownloading trio_websocket-0.12.2-py3-none-any.whl (21 kB)\n",
            "Downloading isodate-0.7.2-py3-none-any.whl (22 kB)\n",
            "Downloading pycountry-24.6.1-py3-none-any.whl (6.3 MB)\n",
            "\u001b[2K   \u001b[90m━━━━━━━━━━━━━━━━━━━━━━━━━━━━━━━━━━━━━━━━\u001b[0m \u001b[32m6.3/6.3 MB\u001b[0m \u001b[31m62.5 MB/s\u001b[0m eta \u001b[36m0:00:00\u001b[0m\n",
            "\u001b[?25hDownloading outcome-1.3.0.post0-py2.py3-none-any.whl (10 kB)\n",
            "Downloading wsproto-1.2.0-py3-none-any.whl (24 kB)\n",
            "Installing collected packages: wsproto, pycryptodome, pycountry, outcome, isodate, trio, trio-websocket, streamlink\n",
            "Successfully installed isodate-0.7.2 outcome-1.3.0.post0 pycountry-24.6.1 pycryptodome-3.22.0 streamlink-7.1.3 trio-0.29.0 trio-websocket-0.12.2 wsproto-1.2.0\n"
          ]
        }
      ]
    },
    {
      "cell_type": "code",
      "metadata": {
        "id": "6Fa5pg0fWctH",
        "colab": {
          "base_uri": "https://localhost:8080/"
        },
        "outputId": "df2a675a-e40f-40ea-e093-4100adc65ac6"
      },
      "source": [
        "#@markdown <center><h3><h2>Stream Recorder</h2>Record any stream</h3></center><br>\n",
        "#@markdown 1- Go to your Google Drive and create a directory called \"stream\" (whitout quotes).\n",
        "#@markdown <br />2- Mount Gdrive above.\n",
        "#@markdown <br />3- Install Streamlink above.\n",
        "#@markdown <br />4- Start recording bellow.\n",
        "import os\n",
        "import time\n",
        "import subprocess\n",
        "from IPython.display import clear_output\n",
        "RUN_Dir = \"/content/tools/stream\"\n",
        "\n",
        "if not RUN_Dir:\n",
        "  RUN_Dir = \"tools/stream\"\n",
        "os.makedirs(RUN_Dir, exist_ok=True)\n",
        "\n",
        "#code to use plugin that was removed from streamlink, remove the comment bellow and set the .py name\n",
        "#if not os.path.exists(f\"{RUN_Dir}/.py\"):\n",
        "#  !cd {RUN_Dir} && wget https://raw.githubusercontent.com/limontec/streamlink/master/src/streamlink/plugins/.py\n",
        "\n",
        "#@markdown ---\n",
        "#@markdown ####Type stream url\n",
        "streamURL =  \"https://goodgame.ru/Metalyst\"  # @param {type:\"string\"}\n",
        "#@markdown ---\n",
        "#@markdown ####Type any name for the stream\n",
        "name = \"MetaGG\"  # @param {type:\"string\"}\n",
        "#@markdown ---\n",
        "#@markdown ####Settings\n",
        "#@markdown start stream record\n",
        "start_record = True #@param {type:\"boolean\"}\n",
        "#@markdown try restart record after stream disconnect\n",
        "loop = True #@param {type:\"boolean\"}\n",
        "#@markdown upload video file to your Drive after finish every record\n",
        "upload_record = True #@param {type:\"boolean\"}\n",
        "#@markdown upload all videos in this session to your Drive\n",
        "upload_all = False #@param {type:\"boolean\"}\n",
        "#@markdown ---\n",
        "#@markdown #####Sites supported: https://streamlink.github.io/plugin_matrix.html\n",
        "#@markdown ---\n",
        "\n",
        "def record():\n",
        "  tempo = time.strftime('_%d-%m-%Y_%H-%M-%S')\n",
        "  if start_record:\n",
        "    !cd {RUN_Dir} && streamlink --plugin-dirs {RUN_Dir} {streamURL} best -o {RUN_Dir}/{name}{tempo}.mp4 --retry-streams 30 --retry-max 300\n",
        "  upload(tempo) --twitch-disable-ads\n",
        "\n",
        "def upload(tempo):\n",
        "  if(os.path.exists('/content/drive')):\n",
        "    if (upload_record and os.path.exists(RUN_Dir+'/'+name+tempo+'.mp4')) or loop:\n",
        "      try:\n",
        "        if(os.path.exists(RUN_Dir+'/'+name+tempo+'.mp4')):\n",
        "          print(\"Copying \"+name+tempo+\".mp4 to drive...\")\n",
        "          !cd {RUN_Dir} && cp {name}{tempo}.mp4 /content/drive/My\\ Drive/stream\n",
        "        else:\n",
        "          print(\"No file.\")\n",
        "      except Exception:\n",
        "        print(\"Error!\")\n",
        "    elif upload_all:\n",
        "      try:\n",
        "        print(\"Copying *.mp4 to drive...\")\n",
        "        os.system('cd '+RUN_Dir+' && cp *.mp4 /content/drive/My\\ Drive/stream')\n",
        "      except Exception:\n",
        "        print(\"Error!\")\n",
        "    else:\n",
        "      print(\"Nothing copied.\")\n",
        "  else:\n",
        "    print(\"You need to mount Gdrive to /content/drive to upload\")\n",
        "\n",
        "record()\n",
        "while loop:\n",
        "  tempo = time.strftime('_%d-%m-%Y_%H-%M-%S')\n",
        "  record()\n",
        "  clear_output()\n"
      ],
      "execution_count": null,
      "outputs": [
        {
          "output_type": "stream",
          "name": "stdout",
          "text": [
            "[cli][info] streamlink is running as root! Be careful!\n",
            "[cli][info] Found matching plugin goodgame for URL https://goodgame.ru/Metalyst\n",
            "[cli][info] Waiting for streams, retrying every 30.0 second(s)\n"
          ]
        }
      ]
    }
  ]
}